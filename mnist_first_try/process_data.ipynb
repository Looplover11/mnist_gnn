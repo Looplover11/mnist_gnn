{
 "cells": [
  {
   "cell_type": "code",
   "execution_count": 1,
   "metadata": {},
   "outputs": [
    {
     "name": "stdout",
     "output_type": "stream",
     "text": [
      "Success! PyTorch is using GPU: NVIDIA GeForce RTX 3050 6GB Laptop GPU\n"
     ]
    }
   ],
   "source": [
    "import torch\n",
    "\n",
    "# Check if PyTorch can access the GPU\n",
    "if torch.cuda.is_available():\n",
    "    print(f\"Success! PyTorch is using GPU: {torch.cuda.get_device_name(0)}\")\n",
    "else:\n",
    "    print(\"PyTorch is installed, but it is using the CPU.\")"
   ]
  },
  {
   "cell_type": "code",
   "execution_count": null,
   "metadata": {},
   "outputs": [],
   "source": [
    "import os\n",
    "from torchvision.datasets import MNIST\n",
    "import torchvision.transforms as transforms\n",
    "from torch_geometric.data import Data\n",
    "from skimage.segmentation import slic\n",
    "from skimage.measure import regionprops\n",
    "from skimage.graph import rag_mean_color\n",
    "import numpy as np\n",
    "from tqdm import tqdm"
   ]
  },
  {
   "cell_type": "code",
   "execution_count": 3,
   "metadata": {},
   "outputs": [],
   "source": [
    "ROOT_DATA_DIR = './'\n",
    "PROCESSED_DATA_DIR = os.path.join(ROOT_DATA_DIR, 'processed_mnist_graphs')\n",
    "N_SEGMENTS = 75 # The number of superpixels to segment each image into."
   ]
  },
  {
   "cell_type": "code",
   "execution_count": 9,
   "metadata": {},
   "outputs": [],
   "source": [
    "def image_to_graph(image_np, label, n_segments):\n",
    "    \"\"\"\n",
    "    Converts a single image tensor to a PyTorch Geometric graph Data object.\n",
    "    \n",
    "    Args:\n",
    "        image_tensor (torch.Tensor): A 2D tensor representing a grayscale image.\n",
    "        label (int): The class label of the image.\n",
    "        n_segments (int): The target number of superpixels.\n",
    "        \n",
    "    Returns:\n",
    "        torch_geometric.data.Data: A graph object with node features, edges, and label.\n",
    "    \"\"\"\n",
    "\n",
    "    # 1. Generate superpixels using SLIC\n",
    "    segments = slic(image_np, n_segments=n_segments, compactness=10, sigma=1, start_label=1,channel_axis=None)\n",
    "    \n",
    "    # 2. Get properties for each superpixel (node)\n",
    "    regions = regionprops(segments, intensity_image=image_np)\n",
    "    \n",
    "    # Initialize lists for node features and centroids\n",
    "    node_features = []\n",
    "    node_centroids = []\n",
    "    \n",
    "    for props in regions:\n",
    "        # Node features: mean intensity of the superpixel\n",
    "        mean_intensity = props.mean_intensity\n",
    "        \n",
    "        # Node position: centroid of the superpixel\n",
    "        centroid = props.centroid # (row, col)\n",
    "        \n",
    "        # We normalize centroids to be between 0 and 1\n",
    "        normalized_centroid = (centroid[0] / image_np.shape[0], centroid[1] / image_np.shape[1])\n",
    "        \n",
    "        # Combine features: [intensity, pos_x, pos_y]\n",
    "        node_features.append([mean_intensity] + list(normalized_centroid))\n",
    "        node_centroids.append(centroid)\n",
    "\n",
    "    # Convert node features to a tensor\n",
    "    x = torch.tensor(node_features, dtype=torch.float)\n",
    "\n",
    "    # 3. Create edges for adjacent superpixels\n",
    "    rag = rag_mean_color(image_np, segments)\n",
    "    edge_index_np = np.array(list(rag.edges))\n",
    "    \n",
    "    # Edges need to be adjusted because scikit-image labels start from 1, not 0\n",
    "    edge_index = torch.tensor(edge_index_np.T, dtype=torch.long) - 1\n",
    "\n",
    "    # 4. Create the PyTorch Geometric Data object\n",
    "    data = Data(x=x, edge_index=edge_index, y=torch.tensor(label, dtype=torch.long))\n",
    "    \n",
    "    return data\n"
   ]
  },
  {
   "cell_type": "code",
   "execution_count": 10,
   "metadata": {},
   "outputs": [
    {
     "name": "stdout",
     "output_type": "stream",
     "text": [
      "Starting conversion of 60000 MNIST images to graphs...\n"
     ]
    },
    {
     "name": "stderr",
     "output_type": "stream",
     "text": [
      "100%|██████████| 60000/60000 [20:37<00:00, 48.50it/s]   "
     ]
    },
    {
     "name": "stdout",
     "output_type": "stream",
     "text": [
      "------------------------------\n",
      "Processing complete.\n",
      "Saved 60000 graph files in './processed_mnist_graphs'\n"
     ]
    },
    {
     "name": "stderr",
     "output_type": "stream",
     "text": [
      "\n"
     ]
    }
   ],
   "source": [
    "if __name__ == '__main__':\n",
    "    # Create the directory for processed data if it doesn't exist\n",
    "    os.makedirs(PROCESSED_DATA_DIR, exist_ok=True)\n",
    "    \n",
    "    # Load the MNIST training dataset\n",
    "    # We don't apply ToTensor immediately because scikit-image needs numpy arrays.\n",
    "    dataset = MNIST(root=ROOT_DATA_DIR, train=True, download=True)\n",
    "    \n",
    "    print(f\"Starting conversion of {len(dataset)} MNIST images to graphs...\")\n",
    "    \n",
    "    # Loop through each image, convert it, and save it\n",
    "    for i in tqdm(range(len(dataset))):\n",
    "        image, label = dataset[i]\n",
    "        \n",
    "        # The image is a PIL Image, convert to a numpy array\n",
    "        image_np = np.array(image)\n",
    "        \n",
    "        # Convert the numpy image to a graph Data object\n",
    "        graph_data = image_to_graph(image_np, label, n_segments=N_SEGMENTS)\n",
    "        \n",
    "        # Save the processed graph object to a file\n",
    "        torch.save(graph_data, os.path.join(PROCESSED_DATA_DIR, f'data_{i}.pt'))\n",
    "\n",
    "    print(\"-\" * 30)\n",
    "    print(f\"Processing complete.\")\n",
    "    print(f\"Saved {len(dataset)} graph files in '{PROCESSED_DATA_DIR}'\")"
   ]
  },
  {
   "cell_type": "code",
   "execution_count": null,
   "metadata": {},
   "outputs": [],
   "source": []
  }
 ],
 "metadata": {
  "kernelspec": {
   "display_name": "Python 3",
   "language": "python",
   "name": "python3"
  },
  "language_info": {
   "codemirror_mode": {
    "name": "ipython",
    "version": 3
   },
   "file_extension": ".py",
   "mimetype": "text/x-python",
   "name": "python",
   "nbconvert_exporter": "python",
   "pygments_lexer": "ipython3",
   "version": "3.13.1"
  }
 },
 "nbformat": 4,
 "nbformat_minor": 2
}
